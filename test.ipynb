{
 "cells": [
  {
   "cell_type": "code",
   "execution_count": null,
   "metadata": {},
   "outputs": [],
   "source": [
    "# Carry out your work up here, defining functions as you need to:"
   ]
  },
  {
   "cell_type": "code",
   "execution_count": null,
   "metadata": {},
   "outputs": [],
   "source": [
    "# Test cell below! Run it when you first start the exercise to see what is needed."
   ]
  },
  {
   "cell_type": "code",
   "execution_count": null,
   "metadata": {},
   "outputs": [],
   "source": [
    "try:\n",
    "    result1 = add_numbers(5, 7)\n",
    "    print(\"Result of adding numbers:\", result1)\n",
    "except:\n",
    "    print(\"Number addition function not yet implemented correctly. Please define a function called 'add_numbers' that takes two numbers and returns their sum.\")\n",
    "try:\n",
    "    result2 = capitalize_string(\"this is an example sentence\")\n",
    "    print(\"Capitalized string:\", result2)\n",
    "except:\n",
    "    print(\"Capitalize function still needed. Please define a function called 'capitalize_string' that takes a string and returns the same string with the first letter capitalized.\")\n",
    "if add_numbers(5, 7) == 12:\n",
    "    print(\"Number addition function seems to work!\")\n",
    "if capitalize_string(\"this is an example sentence\") == \"This is an example sentence\":\n",
    "    print(\"Capitalization function seems to work!\")"
   ]
  }
 ],
 "metadata": {
  "kernelspec": {
   "display_name": "Python 3",
   "language": "python",
   "name": "python3"
  },
  "language_info": {
   "codemirror_mode": {
    "name": "ipython",
    "version": 3
   },
   "file_extension": ".py",
   "mimetype": "text/x-python",
   "name": "python",
   "nbconvert_exporter": "python",
   "pygments_lexer": "ipython3",
   "version": "3.10.6"
  }
 },
 "nbformat": 4,
 "nbformat_minor": 2
}
